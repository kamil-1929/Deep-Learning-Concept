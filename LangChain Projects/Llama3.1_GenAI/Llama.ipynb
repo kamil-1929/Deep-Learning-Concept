{
 "cells": [
  {
   "cell_type": "code",
   "execution_count": null,
   "metadata": {},
   "outputs": [],
   "source": [
    "API_KEY = \"yourkeys\""
   ]
  },
  {
   "cell_type": "code",
   "execution_count": 2,
   "metadata": {},
   "outputs": [
    {
     "name": "stdout",
     "output_type": "stream",
     "text": [
      "content='The first person to land on the moon was Neil Armstrong. He stepped out of the lunar module Eagle and onto the moon\\'s surface on July 20, 1969, during the Apollo 11 mission. Armstrong famously declared, \"That\\'s one small step for man, one giant leap for mankind,\" as he became the first human to set foot on the moon.' additional_kwargs={} response_metadata={'token_usage': {'completion_tokens': 75, 'prompt_tokens': 44, 'total_tokens': 119, 'completion_time': 0.272727273, 'prompt_time': 0.003411834, 'queue_time': 0.100523826, 'total_time': 0.276139107}, 'model_name': 'llama-3.3-70b-versatile', 'system_fingerprint': 'fp_90c1d253ff', 'finish_reason': 'stop', 'logprobs': None} id='run-7bde1f8e-7136-482b-9f91-ed42ae2f115a-0' usage_metadata={'input_tokens': 44, 'output_tokens': 75, 'total_tokens': 119}\n"
     ]
    }
   ],
   "source": [
    "from langchain_groq import ChatGroq\n",
    "\n",
    "llm = ChatGroq(\n",
    "    temperature=0,\n",
    "    groq_api_key = API_KEY,\n",
    "    model_name = \"llama-3.3-70b-versatile\"\n",
    ")\n",
    "response = llm.invoke(\"The first person to land on moon was ...\")\n",
    "print(response)"
   ]
  }
 ],
 "metadata": {
  "kernelspec": {
   "display_name": "Python 3",
   "language": "python",
   "name": "python3"
  },
  "language_info": {
   "codemirror_mode": {
    "name": "ipython",
    "version": 3
   },
   "file_extension": ".py",
   "mimetype": "text/x-python",
   "name": "python",
   "nbconvert_exporter": "python",
   "pygments_lexer": "ipython3",
   "version": "3.10.0"
  }
 },
 "nbformat": 4,
 "nbformat_minor": 2
}
