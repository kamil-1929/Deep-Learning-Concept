{
 "cells": [
  {
   "cell_type": "code",
   "execution_count": 42,
   "metadata": {},
   "outputs": [],
   "source": [
    "from langchain_groq import ChatGroq"
   ]
  },
  {
   "cell_type": "code",
   "execution_count": null,
   "metadata": {},
   "outputs": [
    {
     "name": "stdout",
     "output_type": "stream",
     "text": [
      "The first person to score a double century in ODI cricket was Sachin Tendulkar. He achieved this milestone on February 24, 2010, while playing for India against South Africa at the Captain Roop Singh Stadium in Gwalior, India. Tendulkar scored 200 not out in that match, which remains one of the most iconic moments in cricket history.\n"
     ]
    }
   ],
   "source": [
    "llm = ChatGroq(\n",
    "    temperature=0,\n",
    "    groq_api_key = 'Your keys',\n",
    "    model_name = \"llama-3.3-70b-versatile\"\n",
    ")\n",
    "response = llm.invoke(\"The First person to score double century in ODI cricket\")\n",
    "print(response.content)"
   ]
  },
  {
   "cell_type": "code",
   "execution_count": 44,
   "metadata": {},
   "outputs": [
    {
     "name": "stdout",
     "output_type": "stream",
     "text": [
      "\n",
      "\n",
      "\n",
      "\n",
      "\n",
      ".Net Full Stack Engineer in County Dublin | PrePay Power Ltd\n",
      "\n",
      "\n",
      "\n",
      "\n",
      "\n",
      "\n",
      "\n",
      "\n",
      "\n",
      "\n",
      "\n",
      "\n",
      "\n",
      "\n",
      "\n",
      "\n",
      "\n",
      "\n",
      "\n",
      "\n",
      "\n",
      "\n",
      "\n",
      "\n",
      "\n",
      "\n",
      "\n",
      "\n",
      "\n",
      "\n",
      "\n",
      "\n",
      "\n",
      "\n",
      "\n",
      "\n",
      "\n",
      "\n",
      "\n",
      "\n",
      "\n",
      "\n",
      "\n",
      "\n",
      "SearchSearchSign inSign inMenuMenu\n",
      "\n",
      "\n",
      "\n",
      "\n",
      "\n",
      "\n",
      "SearchSearch\n",
      "\n",
      "\n",
      "\n",
      "\n",
      "\n",
      "\n",
      "\n",
      ".Net Full Stack EngineerPrePay Power LtdCounty DublinPermanentPublished: 2 weeks ago€50,000 - €60,000 per annum.Net Full Stack EngineerPrePay Power LtdAt PrepayPower, we empower people with full control over their energy costs through our innovative, app-based solutions for electricity, gas, oil and broadband management. As one of Ireland's Best Places to Work for five consecutive years, we are committed to fostering a diverse, healthy, and balanced work environment. In 2024, we were honoured as one of the Best Workplaces for Women and Health. Our mission is to create a workplace where everyone can thrive. About the role We are looking for an accomplished and talented .NET Full Stack Engineer to join our established software development team on a full-time basis.The successful candidate will work closely with the Dev Team and Full Stack Manager and will have the ability to build robust software to drive improvements across our products and services.Your New Key Role ResponsibilitiesDeveloping new functionality on existing products Maintaining existing applications. Providing technical support to the various internal departments on all team software Developing using unit tests and engaging in the writing of other types of automated testsExperienceDegree in Computer Science, Software Engineering, or related area. 3+ years of experience as a .Net Full Stack Engineer Good understanding of the full SDLCTechnical SkillsProven experience with C#, .Net Core, .Net and Entity Frameworks, Visual Studio Practical experience with OOP, design patterns, and SOLID principles. Practical experience with Unit Test (Moq, XUnit, NUnit, and Faker). Experience in developing and consuming REST API. Experience with T-SQL (queries,view, functions, stored procedures, indices) Experience with Front-End Development : HTML5/CSS/JS.DesirableExperience with AngularJS, LINQ. Experience in working in a SCRUM/Agile environment. Experience with Confluence (documentation tools and design diagrams). Familiar with Message Queue System such as RabbitMQ and Azure Queue Storage.  Experience in Azure DevOps Soft SkillsCommunication, collaboration, empathy. Creativity, problem-solving, critical thinking, and analytical abilities. Flexibility, ability to learn & curiosity.Career Incentives & Benefits Competitive salary & bonus structure Pension Contribution Scheme  PrepayPower Health Insurance Group Scheme & EAP with Laya Healthcare  Great career progression opportunities in a growing company with strong market    growth  Fast-paced and friendly team environment  Continual training and development  Annual leave, increasing with service.  PrepayPower Staff Tariff  Modern offices with excellent facilities in Sandyford and the flexibility to work remotely Established CSR, Wellness, and Social Committees, and great social events.  Refer a Friend Scheme  Tax Saver Travel Tickets & Bike to Work SchemePrepayPower is an Equal Opportunity Employer. We believe in treating all our employees, customers, and other stakeholders with dignity and respect.We're looking for diverse talent and creating an inclusive workplace that delivers exceptional, innovative services for our customers. We encourage applications from people with diverse backgrounds and experiences.PrepayPower's mission is to give people total control and complete transparency over their energy costs. Rather than the traditional market model of short-term discounts with significant contract terms, we help customers achieve long-term savings on their electricity, gas, and broadband by putting them in control.Our approach is customer-driven. We provide an exceptional level of service, and this has been recognised by Trustpilot, where we are Ireland's highest-rated energy supplier.To be considered for this role you will be redirected to and must complete the application process on our careers page. To start the process, click the Apply button below to Login/Register.\n",
      "\n",
      "\n",
      "\n",
      "\n",
      "\n",
      "In ShortIndustry Energy, Environmental & AgricultureFounded 2011Location Paramount Court, Corrig Rd, Sandyford Business Park, Sandyford, Dublin 18, IrelandCompany size 200 - 499About PrepayPowerPrepayPower is the market leader for Pay As You Go for electricity, gas and broadband in Ireland. We disrupted the energy market in 2011 with one purpose in mind: To give people total control and complete transparency over their electricity costs. Over 155,000 customers have already switched to PrepayPower. In a market dominated by semi-states and subsidiaries to large energy multinationals, we are proud to be Irish owned, independent while working in an inclusive and diverse workplace!Our approach is different, and customer driven. We pride ourselves on providing customers with an excellent level of service.EqualityPrepayPower is an Equal Employment Opportunity (EEO) employer, we believe and treat all our employees, customers and other stakeholders with dignity and respect.At Prepay Power, we recognise talent and potential and encourage growth and development through a range of benefits. Ideas are encouraged and progression is supported. To ensure you’re equipped with everything you need, full training is provided, both in-house and in the field.Benefits & TrainingWe recognise the hard work and dedication to succeed within our employees and as a result, we offer a competitive base salary. These salaries coupled with our bonus structures and uncapped OTE’s means there is exceptional earning potential within the company.We regularly offer incentives to help boost performance such as paid trips, holiday incentives and many more. Longer term incentives are also available such as quarterly bonus structures and investment in your education to assist you in your chosen career path.Work/Life BalanceRegular sports and social events organised by employee run committees, weekly breakfasts and plenty of team nights out is core to our belief that a work life balance is key. It’s important to us first and foremost that our staff are fully supported both in a professional and personal context. In line with this view, we offer all staff access to an Employee Assistance Programme to help our employees deal with a range of scenarios.Why Apply?Our workplace is fast-paced and innovative. As a young company, we believe in employee progression and recognising performance. We continuously encourage employees to come up with ideas that improve our customers’ experience with us.If you are ambitious, results-focused and enjoy a challenge then Prepay Power could be the Company that presents you with the opportunities you are looking for.We are located in our newly refurbished head office in Sandyford with state-of-the-art amenities for employees.We enjoy working hard and having fun; we have award-winning employees recognised by our industry peers. We have an energetic team with lots of events organised throughout the year by our employee-led committees.\n",
      "\n",
      "\n",
      "\n",
      "\n",
      "These jobs were popular with other job seekersSenior Data Analyst, Data AnalyticsCardinal Health, LLCCounty Dublin€ Not DisclosedPosted 5 days agoDigital Data ScientistThree IrelandCounty Dublin€ Not DisclosedPosted 10 days agoTendering Specialist (Sub-Stations/HV/Electrical/Civils) | Dublin, Leinster, IrelandHitachi Energy Ireland LimitedCounty Dublin€ Not DisclosedPosted 7 days agoFull Stack DeveloperDeviceAtlasCounty Dublin€60,000 - €65,000 per annumPosted 9 days agoData ScientistThree IrelandCounty Dublin€ Not DisclosedPosted 9 days agoIT Audit ManagerRobert Walters LimitedCounty Dublin€ Not DisclosedPosted 2 days agoOSS Design EngineerThree IrelandCounty Dublin€ Not DisclosedPosted 5 days agoBilling Systems LeadYuno LimitedCounty Dublin€48,000 - €60,000 per annumPosted 3 days agoAEM DeveloperThree IrelandCounty Dublin€ Not DisclosedPosted 9 days agoProtection & Control Automation Lead | Dublin, Leinster, IrelandHitachi Energy Ireland LimitedCounty Dublin€ Not DisclosedPosted 4 days ago\n",
      "\n",
      "\n",
      "\n",
      "\n",
      "\n",
      "\n",
      "Jobs in County Dublin.Net Full Stack Engineer jobsSoftware Development jobs.Net Full Stack Engineer jobs in County DublinIT jobs in County DublinSoftware Development jobs in County Dublin\n",
      "\n",
      "\n",
      "\n",
      "\n",
      "\n",
      "Jobs.ieAbout usWork for usMedia centrePartnersJobseekerJobsJobseeker loginSalariesJobseeker help centreFind a JobSectorLocationCompanyAgencyCareer adviceRecruiterAdvertise a jobRecruiter loginContact us - recruitersRecruiter adviceRecruit internationallyLet's connectAppsPrivacy policyTerms and conditionsCookiesJobs.ie © 2025 Registered in Ireland under Company Number 260762\n",
      "\n",
      "\n",
      "\n",
      "\n",
      "\n",
      "\n",
      "\n",
      "\n",
      "  \n",
      "\n",
      "\n",
      "\n",
      "\n"
     ]
    }
   ],
   "source": [
    "from langchain_community.document_loaders import WebBaseLoader\n",
    "loader = WebBaseLoader(\"https://www.jobs.ie/job/net-full-stack-engineer/prepay-power-ltd-job104399547\")\n",
    "page_data = loader.load().pop().page_content\n",
    "print(page_data)\n"
   ]
  },
  {
   "cell_type": "code",
   "execution_count": 45,
   "metadata": {},
   "outputs": [
    {
     "data": {
      "text/plain": [
       "str"
      ]
     },
     "execution_count": 45,
     "metadata": {},
     "output_type": "execute_result"
    }
   ],
   "source": [
    "from langchain_core.prompts import PromptTemplate\n",
    "\n",
    "prompt_extract = PromptTemplate.from_template(\n",
    "     \"\"\"\n",
    "        ### SCRAPED TEXT FROM WEBSITE:\n",
    "        {page_data}\n",
    "        ### INSTRUCTION:\n",
    "        The scraped text is from the career's page of a website.\n",
    "        Your job is to extract the job postings and return them in JSON format containing the \n",
    "        following keys: `role`, `experience`, `skills` and `description`.\n",
    "        Only return the valid JSON.\n",
    "        ### VALID JSON (NO PREAMBLE):    \n",
    "        \"\"\"\n",
    ")\n",
    "chain_extract = prompt_extract | llm\n",
    "res = chain_extract.invoke(input={'page_data':page_data})\n",
    "type(res.content)\n"
   ]
  },
  {
   "cell_type": "code",
   "execution_count": 46,
   "metadata": {},
   "outputs": [
    {
     "data": {
      "text/plain": [
       "{'role': '.Net Full Stack Engineer',\n",
       " 'experience': '3+ years of experience as a .Net Full Stack Engineer',\n",
       " 'skills': ['C#',\n",
       "  'Net Core',\n",
       "  '.Net and Entity Frameworks',\n",
       "  'Visual Studio',\n",
       "  'OOP',\n",
       "  'design patterns',\n",
       "  'SOLID principles',\n",
       "  'Unit Test (Moq, XUnit, NUnit, and Faker)',\n",
       "  'REST API',\n",
       "  'T-SQL',\n",
       "  'HTML5/CSS/JS',\n",
       "  'AngularJS',\n",
       "  'LINQ',\n",
       "  'SCRUM/Agile environment',\n",
       "  'Confluence',\n",
       "  'Message Queue System',\n",
       "  'RabbitMQ',\n",
       "  'Azure Queue Storage',\n",
       "  'Azure DevOps'],\n",
       " 'description': 'Developing new functionality on existing products, maintaining existing applications, providing technical support to internal departments, and working closely with the Dev Team and Full Stack Manager.'}"
      ]
     },
     "execution_count": 46,
     "metadata": {},
     "output_type": "execute_result"
    }
   ],
   "source": [
    "from langchain_core.output_parsers import JsonOutputParser\n",
    "\n",
    "json_parser = JsonOutputParser()\n",
    "json_res = json_parser.parse(res.content)\n",
    "json_res"
   ]
  },
  {
   "cell_type": "code",
   "execution_count": 47,
   "metadata": {},
   "outputs": [
    {
     "data": {
      "text/plain": [
       "dict"
      ]
     },
     "execution_count": 47,
     "metadata": {},
     "output_type": "execute_result"
    }
   ],
   "source": [
    "type(json_res)"
   ]
  },
  {
   "cell_type": "code",
   "execution_count": 48,
   "metadata": {},
   "outputs": [
    {
     "data": {
      "text/html": [
       "<div>\n",
       "<style scoped>\n",
       "    .dataframe tbody tr th:only-of-type {\n",
       "        vertical-align: middle;\n",
       "    }\n",
       "\n",
       "    .dataframe tbody tr th {\n",
       "        vertical-align: top;\n",
       "    }\n",
       "\n",
       "    .dataframe thead th {\n",
       "        text-align: right;\n",
       "    }\n",
       "</style>\n",
       "<table border=\"1\" class=\"dataframe\">\n",
       "  <thead>\n",
       "    <tr style=\"text-align: right;\">\n",
       "      <th></th>\n",
       "      <th>Techstack</th>\n",
       "      <th>Links</th>\n",
       "    </tr>\n",
       "  </thead>\n",
       "  <tbody>\n",
       "    <tr>\n",
       "      <th>0</th>\n",
       "      <td>React, Node.js, MongoDB</td>\n",
       "      <td>https://example.com/react-portfolio</td>\n",
       "    </tr>\n",
       "    <tr>\n",
       "      <th>1</th>\n",
       "      <td>Angular,.NET, SQL Server</td>\n",
       "      <td>https://example.com/angular-portfolio</td>\n",
       "    </tr>\n",
       "    <tr>\n",
       "      <th>2</th>\n",
       "      <td>Vue.js, Ruby on Rails, PostgreSQL</td>\n",
       "      <td>https://example.com/vue-portfolio</td>\n",
       "    </tr>\n",
       "    <tr>\n",
       "      <th>3</th>\n",
       "      <td>Python, Django, MySQL</td>\n",
       "      <td>https://example.com/python-portfolio</td>\n",
       "    </tr>\n",
       "    <tr>\n",
       "      <th>4</th>\n",
       "      <td>Java, Spring Boot, Oracle</td>\n",
       "      <td>https://example.com/java-portfolio</td>\n",
       "    </tr>\n",
       "    <tr>\n",
       "      <th>5</th>\n",
       "      <td>Flutter, Firebase, GraphQL</td>\n",
       "      <td>https://example.com/flutter-portfolio</td>\n",
       "    </tr>\n",
       "    <tr>\n",
       "      <th>6</th>\n",
       "      <td>WordPress, PHP, MySQL</td>\n",
       "      <td>https://example.com/wordpress-portfolio</td>\n",
       "    </tr>\n",
       "    <tr>\n",
       "      <th>7</th>\n",
       "      <td>Magento, PHP, MySQL</td>\n",
       "      <td>https://example.com/magento-portfolio</td>\n",
       "    </tr>\n",
       "    <tr>\n",
       "      <th>8</th>\n",
       "      <td>React Native, Node.js, MongoDB</td>\n",
       "      <td>https://example.com/react-native-portfolio</td>\n",
       "    </tr>\n",
       "    <tr>\n",
       "      <th>9</th>\n",
       "      <td>iOS, Swift, Core Data</td>\n",
       "      <td>https://example.com/ios-portfolio</td>\n",
       "    </tr>\n",
       "    <tr>\n",
       "      <th>10</th>\n",
       "      <td>Android, Java, Room Persistence</td>\n",
       "      <td>https://example.com/android-portfolio</td>\n",
       "    </tr>\n",
       "    <tr>\n",
       "      <th>11</th>\n",
       "      <td>Kotlin, Android, Firebase</td>\n",
       "      <td>https://example.com/kotlin-android-portfolio</td>\n",
       "    </tr>\n",
       "    <tr>\n",
       "      <th>12</th>\n",
       "      <td>Android TV, Kotlin, Android NDK</td>\n",
       "      <td>https://example.com/android-tv-portfolio</td>\n",
       "    </tr>\n",
       "    <tr>\n",
       "      <th>13</th>\n",
       "      <td>iOS, Swift, ARKit</td>\n",
       "      <td>https://example.com/ios-ar-portfolio</td>\n",
       "    </tr>\n",
       "    <tr>\n",
       "      <th>14</th>\n",
       "      <td>Cross-platform, Xamarin, Azure</td>\n",
       "      <td>https://example.com/xamarin-portfolio</td>\n",
       "    </tr>\n",
       "    <tr>\n",
       "      <th>15</th>\n",
       "      <td>Backend, Kotlin, Spring Boot</td>\n",
       "      <td>https://example.com/kotlin-backend-portfolio</td>\n",
       "    </tr>\n",
       "    <tr>\n",
       "      <th>16</th>\n",
       "      <td>Frontend, TypeScript, Angular</td>\n",
       "      <td>https://example.com/typescript-frontend-portfolio</td>\n",
       "    </tr>\n",
       "    <tr>\n",
       "      <th>17</th>\n",
       "      <td>Full-stack, JavaScript, Express.js</td>\n",
       "      <td>https://example.com/full-stack-js-portfolio</td>\n",
       "    </tr>\n",
       "    <tr>\n",
       "      <th>18</th>\n",
       "      <td>Machine Learning, Python, TensorFlow</td>\n",
       "      <td>https://example.com/ml-python-portfolio</td>\n",
       "    </tr>\n",
       "    <tr>\n",
       "      <th>19</th>\n",
       "      <td>DevOps, Jenkins, Docker</td>\n",
       "      <td>https://example.com/devops-portfolio</td>\n",
       "    </tr>\n",
       "  </tbody>\n",
       "</table>\n",
       "</div>"
      ],
      "text/plain": [
       "                               Techstack  \\\n",
       "0                React, Node.js, MongoDB   \n",
       "1               Angular,.NET, SQL Server   \n",
       "2      Vue.js, Ruby on Rails, PostgreSQL   \n",
       "3                  Python, Django, MySQL   \n",
       "4              Java, Spring Boot, Oracle   \n",
       "5             Flutter, Firebase, GraphQL   \n",
       "6                  WordPress, PHP, MySQL   \n",
       "7                    Magento, PHP, MySQL   \n",
       "8         React Native, Node.js, MongoDB   \n",
       "9                  iOS, Swift, Core Data   \n",
       "10       Android, Java, Room Persistence   \n",
       "11             Kotlin, Android, Firebase   \n",
       "12       Android TV, Kotlin, Android NDK   \n",
       "13                     iOS, Swift, ARKit   \n",
       "14        Cross-platform, Xamarin, Azure   \n",
       "15          Backend, Kotlin, Spring Boot   \n",
       "16         Frontend, TypeScript, Angular   \n",
       "17    Full-stack, JavaScript, Express.js   \n",
       "18  Machine Learning, Python, TensorFlow   \n",
       "19               DevOps, Jenkins, Docker   \n",
       "\n",
       "                                                Links  \n",
       "0                 https://example.com/react-portfolio  \n",
       "1               https://example.com/angular-portfolio  \n",
       "2                   https://example.com/vue-portfolio  \n",
       "3                https://example.com/python-portfolio  \n",
       "4                  https://example.com/java-portfolio  \n",
       "5               https://example.com/flutter-portfolio  \n",
       "6             https://example.com/wordpress-portfolio  \n",
       "7               https://example.com/magento-portfolio  \n",
       "8          https://example.com/react-native-portfolio  \n",
       "9                   https://example.com/ios-portfolio  \n",
       "10              https://example.com/android-portfolio  \n",
       "11       https://example.com/kotlin-android-portfolio  \n",
       "12           https://example.com/android-tv-portfolio  \n",
       "13               https://example.com/ios-ar-portfolio  \n",
       "14              https://example.com/xamarin-portfolio  \n",
       "15       https://example.com/kotlin-backend-portfolio  \n",
       "16  https://example.com/typescript-frontend-portfolio  \n",
       "17        https://example.com/full-stack-js-portfolio  \n",
       "18            https://example.com/ml-python-portfolio  \n",
       "19               https://example.com/devops-portfolio  "
      ]
     },
     "execution_count": 48,
     "metadata": {},
     "output_type": "execute_result"
    }
   ],
   "source": [
    "import pandas as pd\n",
    "\n",
    "df = pd.read_csv(\"./app/data/my_portfolio.csv\")\n",
    "df"
   ]
  },
  {
   "cell_type": "code",
   "execution_count": 49,
   "metadata": {},
   "outputs": [
    {
     "name": "stdout",
     "output_type": "stream",
     "text": [
      "Documents added successfully!\n"
     ]
    }
   ],
   "source": [
    "import uuid \n",
    "import chromadb\n",
    "\n",
    "\n",
    "try:\n",
    "    df = pd.read_csv('./app/data/my_portfolio.csv')\n",
    "except Exception as e:\n",
    "    print(\"Error loading DataFrame:\", e)\n",
    "    exit(1)\n",
    "\n",
    "# Check required columns\n",
    "if not {\"Techstack\", \"Links\"}.issubset(df.columns):\n",
    "    print(\"DataFrame must contain 'Techstack' and 'Links' columns\")\n",
    "    exit(1)\n",
    "\n",
    "client = chromadb.PersistentClient('vectorstore')\n",
    "collection = client.get_or_create_collection(name=\"portfolio\")\n",
    "\n",
    "# Only add documents if the collection is empty\n",
    "if not collection.count():\n",
    "    for _, row in df.iterrows():\n",
    "        try:\n",
    "            collection.add(\n",
    "                documents=row[\"Techstack\"],\n",
    "                metadatas={\"links\": row[\"Links\"]},\n",
    "                ids=[str(uuid.uuid4())]\n",
    "            )\n",
    "        except Exception as e:\n",
    "            print(f\"Error adding document for row {row}: {e}\")\n",
    "\n",
    "print(\"Documents added successfully!\")\n",
    "        "
   ]
  },
  {
   "cell_type": "code",
   "execution_count": 50,
   "metadata": {},
   "outputs": [
    {
     "name": "stdout",
     "output_type": "stream",
     "text": [
      "Python executable: c:\\Users\\Shami\\AppData\\Local\\Programs\\Python\\Python310\\python.exe\n"
     ]
    }
   ],
   "source": [
    "import sys\n",
    "print(\"Python executable:\", sys.executable)\n"
   ]
  },
  {
   "cell_type": "code",
   "execution_count": 51,
   "metadata": {},
   "outputs": [
    {
     "name": "stdout",
     "output_type": "stream",
     "text": [
      "onnxruntime version: 1.21.0\n"
     ]
    }
   ],
   "source": [
    "import onnxruntime\n",
    "print(\"onnxruntime version:\", onnxruntime.__version__)"
   ]
  },
  {
   "cell_type": "code",
   "execution_count": 53,
   "metadata": {},
   "outputs": [
    {
     "data": {
      "text/plain": [
       "[[{'links': 'https://example.com/angular-portfolio'},\n",
       "  {'links': 'https://example.com/wordpress-portfolio'}],\n",
       " [{'links': 'https://example.com/ios-portfolio'},\n",
       "  {'links': 'https://example.com/xamarin-portfolio'}],\n",
       " [{'links': 'https://example.com/angular-portfolio'},\n",
       "  {'links': 'https://example.com/xamarin-portfolio'}],\n",
       " [{'links': 'https://example.com/angular-portfolio'},\n",
       "  {'links': 'https://example.com/ml-python-portfolio'}],\n",
       " [{'links': 'https://example.com/java-portfolio'},\n",
       "  {'links': 'https://example.com/ios-ar-portfolio'}],\n",
       " [{'links': 'https://example.com/android-portfolio'},\n",
       "  {'links': 'https://example.com/flutter-portfolio'}],\n",
       " [{'links': 'https://example.com/typescript-frontend-portfolio'},\n",
       "  {'links': 'https://example.com/java-portfolio'}],\n",
       " [{'links': 'https://example.com/ios-portfolio'},\n",
       "  {'links': 'https://example.com/ios-ar-portfolio'}],\n",
       " [{'links': 'https://example.com/vue-portfolio'},\n",
       "  {'links': 'https://example.com/wordpress-portfolio'}],\n",
       " [{'links': 'https://example.com/magento-portfolio'},\n",
       "  {'links': 'https://example.com/angular-portfolio'}],\n",
       " [{'links': 'https://example.com/full-stack-js-portfolio'},\n",
       "  {'links': 'https://example.com/typescript-frontend-portfolio'}],\n",
       " [{'links': 'https://example.com/typescript-frontend-portfolio'},\n",
       "  {'links': 'https://example.com/angular-portfolio'}],\n",
       " [{'links': 'https://example.com/angular-portfolio'},\n",
       "  {'links': 'https://example.com/flutter-portfolio'}],\n",
       " [{'links': 'https://example.com/devops-portfolio'},\n",
       "  {'links': 'https://example.com/java-portfolio'}],\n",
       " [{'links': 'https://example.com/kotlin-backend-portfolio'},\n",
       "  {'links': 'https://example.com/magento-portfolio'}],\n",
       " [{'links': 'https://example.com/flutter-portfolio'},\n",
       "  {'links': 'https://example.com/android-portfolio'}],\n",
       " [{'links': 'https://example.com/flutter-portfolio'},\n",
       "  {'links': 'https://example.com/vue-portfolio'}],\n",
       " [{'links': 'https://example.com/xamarin-portfolio'},\n",
       "  {'links': 'https://example.com/flutter-portfolio'}],\n",
       " [{'links': 'https://example.com/devops-portfolio'},\n",
       "  {'links': 'https://example.com/xamarin-portfolio'}]]"
      ]
     },
     "execution_count": 53,
     "metadata": {},
     "output_type": "execute_result"
    }
   ],
   "source": [
    "skills_query = json_res['skills']\n",
    "links = collection.query(query_texts=skills_query, n_results=2).get('metadatas', [])\n",
    "links"
   ]
  },
  {
   "cell_type": "code",
   "execution_count": 55,
   "metadata": {},
   "outputs": [
    {
     "data": {
      "text/plain": [
       "['C#',\n",
       " 'Net Core',\n",
       " '.Net and Entity Frameworks',\n",
       " 'Visual Studio',\n",
       " 'OOP',\n",
       " 'design patterns',\n",
       " 'SOLID principles',\n",
       " 'Unit Test (Moq, XUnit, NUnit, and Faker)',\n",
       " 'REST API',\n",
       " 'T-SQL',\n",
       " 'HTML5/CSS/JS',\n",
       " 'AngularJS',\n",
       " 'LINQ',\n",
       " 'SCRUM/Agile environment',\n",
       " 'Confluence',\n",
       " 'Message Queue System',\n",
       " 'RabbitMQ',\n",
       " 'Azure Queue Storage',\n",
       " 'Azure DevOps']"
      ]
     },
     "execution_count": 55,
     "metadata": {},
     "output_type": "execute_result"
    }
   ],
   "source": [
    "skills_query"
   ]
  },
  {
   "cell_type": "code",
   "execution_count": 63,
   "metadata": {},
   "outputs": [
    {
     "name": "stdout",
     "output_type": "stream",
     "text": [
      "Subject: Expert Software Solutions for Seamless Business Integration\n",
      "\n",
      "Dear [Client],\n",
      "\n",
      "I came across your job description and was impressed by the scope of your project. As a Business Development Executive at XX-company, I'd like to introduce you to our team of experts who specialize in AI and software consulting. We've empowered numerous enterprises with tailored solutions, fostering scalability, process optimization, cost reduction, and heightened overall efficiency.\n",
      "\n",
      "Our team is well-versed in the technologies you've listed, including C#, .Net Core, Entity Frameworks, Visual Studio, OOP, design patterns, SOLID principles, Unit Testing (Moq, XUnit, NUnit, and Faker), REST API, T-SQL, HTML5/CSS/JS, AngularJS, LINQ, and SCRUM/Agile environment. We're also experienced in Message Queue Systems, including RabbitMQ and Azure Queue Storage, as well as Azure DevOps.\n",
      "\n",
      "Our portfolio showcases our expertise in various technologies, including:\n",
      "\n",
      "* Angular-based solutions: https://example.com/angular-portfolio\n",
      "* Xamarin-based solutions: https://example.com/xamarin-portfolio\n",
      "* DevOps solutions: https://example.com/devops-portfolio\n",
      "* Full-stack JavaScript solutions: https://example.com/full-stack-js-portfolio\n",
      "* TypeScript frontend solutions: https://example.com/typescript-frontend-portfolio\n",
      "\n",
      "We'd love to discuss how our expertise can help you achieve your business goals. Our team is committed to delivering high-quality solutions that meet your specific needs. If you're interested in learning more about our services, I'd be happy to schedule a call to explore how we can help.\n",
      "\n",
      "Please let me know if you'd like to schedule a call or receive more information about our services.\n",
      "\n",
      "Best regards,\n",
      "\n",
      "Malik\n",
      "Business Development Executive\n",
      "XX-company\n"
     ]
    }
   ],
   "source": [
    "prompt_email = PromptTemplate.from_template(\n",
    "        \"\"\"\n",
    "        ### JOB DESCRIPTION:\n",
    "        {job_description}\n",
    "        \n",
    "        ### INSTRUCTION:\n",
    "        You are Malik, a business development executive at XX-company. XX-company is an AI & Software Consulting company dedicated to facilitating\n",
    "        the seamless integration of business processes through automated tools. \n",
    "        Over our experience, we have empowered numerous enterprises with tailored solutions, fostering scalability, \n",
    "        process optimization, cost reduction, and heightened overall efficiency. \n",
    "        Your job is to write a cold email to the client regarding the job mentioned above describing the capability of XX-company \n",
    "        in fulfilling their needs.\n",
    "        Also add the most relevant ones from the following links to showcase XX-company's portfolio: {link_list}\n",
    "        Remember you are Malik, BDE at XXX-Company. \n",
    "        Do not provide a preamble.\n",
    "        ### EMAIL (NO PREAMBLE):\n",
    "        \n",
    "        \"\"\"\n",
    "        )\n",
    "\n",
    "chain_email = prompt_email | llm\n",
    "res = chain_email.invoke({\"job_description\": str(skills_query), \"link_list\": links})\n",
    "print(res.content)"
   ]
  }
 ],
 "metadata": {
  "kernelspec": {
   "display_name": "Python 3",
   "language": "python",
   "name": "python3"
  },
  "language_info": {
   "codemirror_mode": {
    "name": "ipython",
    "version": 3
   },
   "file_extension": ".py",
   "mimetype": "text/x-python",
   "name": "python",
   "nbconvert_exporter": "python",
   "pygments_lexer": "ipython3",
   "version": "3.10.0"
  }
 },
 "nbformat": 4,
 "nbformat_minor": 2
}
