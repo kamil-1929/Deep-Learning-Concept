{
 "cells": [
  {
   "cell_type": "markdown",
   "metadata": {},
   "source": [
    "# Python Basics\n"
   ]
  },
  {
   "cell_type": "code",
   "execution_count": 10,
   "metadata": {},
   "outputs": [
    {
     "name": "stdout",
     "output_type": "stream",
     "text": [
      "Hello, Hi Welcome to Python for AI\n",
      " Kamil !!! \n"
     ]
    }
   ],
   "source": [
    "# Printing in Python\n",
    "print(\"Hello, Hi Welcome to Python for AI\" )\n",
    "print(\" Kamil !!! \")"
   ]
  },
  {
   "cell_type": "markdown",
   "metadata": {},
   "source": [
    "### Variables"
   ]
  },
  {
   "cell_type": "code",
   "execution_count": 11,
   "metadata": {},
   "outputs": [
    {
     "name": "stdout",
     "output_type": "stream",
     "text": [
      "10 3.369 Hello\n",
      "<class 'int'> <class 'float'> <class 'str'>\n"
     ]
    }
   ],
   "source": [
    "# defining the variables in python: \n",
    "var1 = 10\n",
    "var2 = 3.369\n",
    "var3 = \"Hello\"\n",
    "\n",
    "print(var1, var2, var3)\n",
    "print(type(var1), type(var2), type(var3))\n",
    "\n",
    "# In python we dont need to mention the datatype unlike java and other languages"
   ]
  },
  {
   "cell_type": "code",
   "execution_count": 12,
   "metadata": {},
   "outputs": [
    {
     "name": "stdout",
     "output_type": "stream",
     "text": [
      "<class 'int'>\n",
      "<class 'float'>\n",
      "<class 'str'>\n",
      "<class 'str'>\n"
     ]
    }
   ],
   "source": [
    "print(type(var1))\n",
    "print(type(var2))\n",
    "print(type(var3))\n",
    "\n",
    "var1=\"hello\"\n",
    "print(type(var1))"
   ]
  },
  {
   "cell_type": "code",
   "execution_count": 13,
   "metadata": {},
   "outputs": [
    {
     "name": "stdout",
     "output_type": "stream",
     "text": [
      "Value of pi is  3.14\n"
     ]
    }
   ],
   "source": [
    "pi = 3.14\n",
    "print(\"Value of pi is \", pi)"
   ]
  },
  {
   "cell_type": "markdown",
   "metadata": {},
   "source": [
    "### Assignment"
   ]
  },
  {
   "cell_type": "code",
   "execution_count": 15,
   "metadata": {},
   "outputs": [
    {
     "name": "stdout",
     "output_type": "stream",
     "text": [
      "1   1   1\n",
      "3   6   nine\n"
     ]
    }
   ],
   "source": [
    "# Assigning same values to the multiple variables\n",
    "var1 = var2 = var3 = 1\n",
    "print(var1,' ', var2,' ', var3)\n",
    "\n",
    "# Assigning Different values to variables in a single expression\n",
    "var1, var2, var3 = 3, 6, \"nine\"\n",
    "print(var1,' ', var2,' ', var3)"
   ]
  },
  {
   "cell_type": "markdown",
   "metadata": {},
   "source": [
    "### Slicing"
   ]
  },
  {
   "cell_type": "code",
   "execution_count": 32,
   "metadata": {},
   "outputs": [
    {
     "name": "stdout",
     "output_type": "stream",
     "text": [
      "ld\n",
      "Hello AI World\n",
      "H\n",
      "AI \n",
      "lo AI World\n",
      "Hello \n",
      "Hello AI WorldHello AI WorldHello AI World\n",
      "Hello AI WorldHello AI WorldHello AI WorldHello AI WorldHello AI WorldHello AI WorldHello AI WorldHello AI WorldHello AI WorldHello AI World\n",
      "Hello AI World Order\n"
     ]
    }
   ],
   "source": [
    "# String operations\n",
    "\n",
    "str = \"Hello AI World\" \n",
    "length = len(str)\n",
    "print(str[length-2:])\n",
    "print(str)\n",
    "print(str[0])\n",
    "print(str[6:9])\n",
    "print(str[3:])\n",
    "print(str[:6])\n",
    "print(str * 3) \n",
    "str1 = str * 10\n",
    "print(str1)\n",
    "print(str + \" Order\")\n"
   ]
  },
  {
   "cell_type": "markdown",
   "metadata": {},
   "source": [
    "### Data types"
   ]
  },
  {
   "cell_type": "code",
   "execution_count": 43,
   "metadata": {},
   "outputs": [
    {
     "name": "stdout",
     "output_type": "stream",
     "text": [
      "['abcd', 369, 786]\n",
      "S\n",
      "o\n",
      "n\n",
      "(369, 786)\n"
     ]
    }
   ],
   "source": [
    "# Python Lists\n",
    "list = ['abcd', 369, 786, 'Solomon', 'David', 3.14]\n",
    "\n",
    "# A tuple. Tuples are immutable, i.e. cannot be edit later\n",
    "tuple = ('abcd', 369, 786, 'Solomon', 'David', 3.14)\n",
    "\n",
    "print(list[:3])\n",
    "print(list[3][0])\n",
    "print(list[3][3])\n",
    "print(list[3][6])\n",
    "print(tuple[1:3])"
   ]
  },
  {
   "cell_type": "code",
   "execution_count": 55,
   "metadata": {},
   "outputs": [
    {
     "name": "stdout",
     "output_type": "stream",
     "text": [
      "{'David': 1786, 'Solomon': 369}\n",
      "{'Solomon': 369}\n",
      "dict_keys(['Solomon', 'Abraham'])\n",
      "['Abraham', 'Solomon']\n",
      "[369, 3323]\n",
      "False\n",
      "True\n",
      "True\n"
     ]
    }
   ],
   "source": [
    "# Lists are ordered sets of objects, whereas dictionaries are unordered sets.\n",
    "# But the main difference is that items in dictionaries are accessed \n",
    "# via keys and not via their position.\n",
    "\n",
    "tel = {'David': 786, 'Solomon': 369}\n",
    "tel['David'] = 1786\n",
    "print(tel)\n",
    "del tel['David']\n",
    "print(tel)\n",
    "tel['Abraham'] = 3323\n",
    "print(tel.keys())\n",
    "print(sorted(tel.keys()))\n",
    "print(sorted(tel.values()))\n",
    "print('Rava' in tel)\n",
    "print('Solomon' in tel)\n",
    "print('Yusuf' not in tel)\n",
    "\n",
    "\n"
   ]
  },
  {
   "cell_type": "markdown",
   "metadata": {},
   "source": [
    "###  Conditioning and looping"
   ]
  },
  {
   "cell_type": "code",
   "execution_count": 56,
   "metadata": {},
   "outputs": [
    {
     "name": "stdout",
     "output_type": "stream",
     "text": [
      "Square of  0 is : 0\n",
      "1 is odd number\n",
      "Square of  2 is : 4\n",
      "3 is odd number\n",
      "Square of  4 is : 16\n",
      "5 is odd number\n",
      "Square of  6 is : 36\n",
      "7 is odd number\n",
      "Square of  8 is : 64\n",
      "9 is odd number\n",
      "End Loop\n"
     ]
    }
   ],
   "source": [
    "# Square of Even numbers\n",
    "\n",
    "for i in range(10):\n",
    "    if i % 2 == 0:\n",
    "        print(\"Square of \",i,\"is :\", i * i)\n",
    "    \n",
    "    else:\n",
    "        print(i, \"is odd number\")\n",
    "print(\"End Loop\")\n",
    "         "
   ]
  },
  {
   "cell_type": "markdown",
   "metadata": {},
   "source": [
    "### Built-in Functions"
   ]
  },
  {
   "cell_type": "code",
   "execution_count": null,
   "metadata": {},
   "outputs": [
    {
     "name": "stdout",
     "output_type": "stream",
     "text": [
      "sum of the array: 18\n",
      "Length of array: 10\n",
      "Absolute value:  369\n",
      "Round Value:  3\n",
      "Float 12.25\n",
      "Float, 12.25\n"
     ]
    }
   ],
   "source": [
    "print(\"sum of the array:\", sum([3,6,9]))\n",
    "print(\"Length of array:\", len([1,2,3,4,5,6,7,8,9,10]))\n",
    "print(\"Absolute value: \", abs(-369))\n",
    "print(\"Round Value: \", round(3.1444444444))\n",
    "value = 12.2456\n",
    "formatted_float = \"{:.2f}\".format(value)\n",
    "print(\"Float\", formatted_float)\n",
    "print(f\"Float, {value:.2f}\")"
   ]
  },
  {
   "cell_type": "markdown",
   "metadata": {},
   "source": [
    "### Functions"
   ]
  },
  {
   "cell_type": "code",
   "execution_count": 76,
   "metadata": {},
   "outputs": [
    {
     "name": "stdout",
     "output_type": "stream",
     "text": [
      "Area of rectangle: 200\n",
      "Perimeter of rectangle: 60\n"
     ]
    }
   ],
   "source": [
    "# Area of Rectangle\n",
    "def area(len, wid):\n",
    "    return len*wid, 2*(len + wid)\n",
    "\n",
    "ap = area(10, 20)\n",
    "print(\"Area of rectangle:\", ap[0])  # Area\n",
    "print(\"Perimeter of rectangle:\", ap[1])  # Perimeter"
   ]
  },
  {
   "cell_type": "markdown",
   "metadata": {},
   "source": [
    "### NumPy \n",
    "* Numpy is the fundamental package for numerical computing with Python.\n",
    "* a powerful N-dimensional array object\n",
    "* useful linear algebra, Fourier transform, and random number capabilities"
   ]
  },
  {
   "cell_type": "code",
   "execution_count": 81,
   "metadata": {},
   "outputs": [
    {
     "name": "stdout",
     "output_type": "stream",
     "text": [
      "Matrix A\n",
      " [7 8 6]\n",
      "\n",
      "Matrix B\n",
      " [3 6 9]\n",
      "\n",
      "Matrix Addition A + B \n",
      " [10 14 15]\n",
      "\n",
      "Addition using Broadcasting A + 3\n",
      " [10 11  9]\n"
     ]
    }
   ],
   "source": [
    "import numpy as np\n",
    "\n",
    "a = np.array([7,8,6])\n",
    "b = np.array([3,6,9])\n",
    "\n",
    "print(\"Matrix A\\n\", a)\n",
    "print(\"\\nMatrix B\\n\", b)\n",
    "\n",
    "print(\"\\nMatrix Addition A + B \\n\", a + b)\n",
    "print(\"\\nAddition using Broadcasting A + 3\\n\", a + 3)"
   ]
  },
  {
   "cell_type": "code",
   "execution_count": 82,
   "metadata": {},
   "outputs": [
    {
     "name": "stdout",
     "output_type": "stream",
     "text": [
      "Matrix C\n",
      " [[0 1 2]\n",
      " [3 4 5]\n",
      " [6 7 8]]\n",
      "Matrix D\n",
      " [[1 2 3]\n",
      " [1 2 3]\n",
      " [1 2 3]]\n",
      "Matrix E\n",
      " [1 2 3]\n",
      "Regular matrix addition C+D\n",
      " [[ 1  3  5]\n",
      " [ 4  6  8]\n",
      " [ 7  9 11]]\n",
      "Addition using Broadcasting C+E\n",
      " [[ 1  3  5]\n",
      " [ 4  6  8]\n",
      " [ 7  9 11]]\n"
     ]
    }
   ],
   "source": [
    "# Lets go for a 2D matrix\n",
    "c = np.array([[0, 1, 2],[3, 4, 5],[6, 7, 8]])\n",
    "d = np.array([[1, 2, 3],[1, 2, 3],[1, 2, 3]])\n",
    "\n",
    "e = np.array([1, 2, 3])\n",
    "\n",
    "print(\"Matrix C\\n\", c)\n",
    "print(\"Matrix D\\n\", d)\n",
    "print(\"Matrix E\\n\", e)\n",
    "\n",
    "print(\"Regular matrix addition C+D\\n\", c + d)\n",
    "\n",
    "print(\"Addition using Broadcasting C+E\\n\", c + e)"
   ]
  },
  {
   "cell_type": "code",
   "execution_count": 85,
   "metadata": {},
   "outputs": [
    {
     "name": "stdout",
     "output_type": "stream",
     "text": [
      "Matrix Ones M: \n",
      " [[1. 1. 1.]\n",
      " [1. 1. 1.]\n",
      " [1. 1. 1.]]\n"
     ]
    }
   ],
   "source": [
    "test_ones = np.ones((3,3))\n",
    "print(\"Matrix Ones M: \\n\", test_ones)"
   ]
  },
  {
   "cell_type": "code",
   "execution_count": 86,
   "metadata": {},
   "outputs": [
    {
     "name": "stdout",
     "output_type": "stream",
     "text": [
      "Dimension of test_ones: (3, 3)\n",
      "Dimension of a:  (3,)\n",
      "[[8. 9. 7.]\n",
      " [8. 9. 7.]\n",
      " [8. 9. 7.]]\n"
     ]
    }
   ],
   "source": [
    "print(\"Dimension of test_ones:\", test_ones.shape)\n",
    "print(\"Dimension of a: \",a.shape)\n",
    "print(test_ones + a)"
   ]
  },
  {
   "cell_type": "code",
   "execution_count": null,
   "metadata": {},
   "outputs": [],
   "source": []
  }
 ],
 "metadata": {
  "kernelspec": {
   "display_name": "Python 3",
   "language": "python",
   "name": "python3"
  },
  "language_info": {
   "codemirror_mode": {
    "name": "ipython",
    "version": 3
   },
   "file_extension": ".py",
   "mimetype": "text/x-python",
   "name": "python",
   "nbconvert_exporter": "python",
   "pygments_lexer": "ipython3",
   "version": "3.12.9"
  }
 },
 "nbformat": 4,
 "nbformat_minor": 2
}
